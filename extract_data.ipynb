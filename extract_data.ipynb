{
 "cells": [
  {
   "cell_type": "code",
   "execution_count": 7,
   "metadata": {},
   "outputs": [
    {
     "ename": "FileNotFoundError",
     "evalue": "[Errno 2] No such file or directory: 'annual_reports/johnson_and_johnson/johnson_and_johnson_2016.pdf'",
     "output_type": "error",
     "traceback": [
      "\u001b[0;31m---------------------------------------------------------------------------\u001b[0m",
      "\u001b[0;31mFileNotFoundError\u001b[0m                         Traceback (most recent call last)",
      "\u001b[1;32m/CollinTDC/ba/extract_data.ipynb Cell 1\u001b[0m in \u001b[0;36m<cell line: 7>\u001b[0;34m()\u001b[0m\n\u001b[1;32m      <a href='vscode-notebook-cell://github/CollinTDC/ba/extract_data.ipynb#W0sdnNjb2RlLXZmcw%3D%3D?line=3'>4</a>\u001b[0m file_path \u001b[39m=\u001b[39m \u001b[39m\"\u001b[39m\u001b[39m../annual_reports/johnson_and_johnson/johnson_and_johnson_2016.pdf\u001b[39m\u001b[39m\"\u001b[39m\n\u001b[1;32m      <a href='vscode-notebook-cell://github/CollinTDC/ba/extract_data.ipynb#W0sdnNjb2RlLXZmcw%3D%3D?line=5'>6</a>\u001b[0m \u001b[39m# Open the PDF file in read-binary mode\u001b[39;00m\n\u001b[0;32m----> <a href='vscode-notebook-cell://github/CollinTDC/ba/extract_data.ipynb#W0sdnNjb2RlLXZmcw%3D%3D?line=6'>7</a>\u001b[0m \u001b[39mwith\u001b[39;00m \u001b[39mopen\u001b[39;49m(pdf_path, \u001b[39m'\u001b[39;49m\u001b[39mrb\u001b[39;49m\u001b[39m'\u001b[39;49m) \u001b[39mas\u001b[39;00m pdf_file:\n\u001b[1;32m      <a href='vscode-notebook-cell://github/CollinTDC/ba/extract_data.ipynb#W0sdnNjb2RlLXZmcw%3D%3D?line=7'>8</a>\u001b[0m     reader \u001b[39m=\u001b[39m PyPDF2\u001b[39m.\u001b[39mPdfReader(pdf_file)\n\u001b[1;32m      <a href='vscode-notebook-cell://github/CollinTDC/ba/extract_data.ipynb#W0sdnNjb2RlLXZmcw%3D%3D?line=8'>9</a>\u001b[0m     \u001b[39m# Extract text from each page\u001b[39;00m\n",
      "\u001b[0;31mFileNotFoundError\u001b[0m: [Errno 2] No such file or directory: 'annual_reports/johnson_and_johnson/johnson_and_johnson_2016.pdf'"
     ]
    }
   ],
   "source": [
    "import PyPDF2\n",
    "\n",
    "# Path to your PDF file\n",
    "file_path = \"../annual_reports/johnson_and_johnson/johnson_and_johnson_2016.pdf\"\n",
    "\n",
    "# Open the PDF file in read-binary mode\n",
    "with open(pdf_path, 'rb') as pdf_file:\n",
    "    reader = PyPDF2.PdfReader(pdf_file)\n",
    "    # Extract text from each page\n",
    "    for page_number, page in enumerate(reader.pages):\n",
    "        print(f\"Page {page_number + 1}:\")\n",
    "        print(page.extract_text())\n"
   ]
  },
  {
   "cell_type": "code",
   "execution_count": null,
   "metadata": {},
   "outputs": [],
   "source": []
  }
 ],
 "metadata": {
  "kernelspec": {
   "display_name": "base",
   "language": "python",
   "name": "python3"
  },
  "language_info": {
   "codemirror_mode": {
    "name": "ipython",
    "version": 3
   },
   "file_extension": ".py",
   "mimetype": "text/x-python",
   "name": "python",
   "nbconvert_exporter": "python",
   "pygments_lexer": "ipython3",
   "version": "3.9.12"
  },
  "orig_nbformat": 4
 },
 "nbformat": 4,
 "nbformat_minor": 2
}
